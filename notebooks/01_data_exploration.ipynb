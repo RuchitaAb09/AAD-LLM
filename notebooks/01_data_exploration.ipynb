{
 "cells": [
  {
   "cell_type": "code",
   "execution_count": 8,
   "metadata": {},
   "outputs": [],
   "source": [
    "import sys\n",
    "import os\n",
    "sys.path.append(os.path.abspath(os.path.join(os.path.pardir)))"
   ]
  },
  {
   "cell_type": "code",
   "execution_count": 9,
   "metadata": {},
   "outputs": [
    {
     "name": "stdout",
     "output_type": "stream",
     "text": [
      "Number of trials: 20\n",
      "Sampling rate: 128 Hz\n",
      "Shape of first trial EEG: (49792, 64) (samples × channels)\n",
      "First 5 attended labels: ['R', 'L', 'R', 'L', 'R']\n"
     ]
    }
   ],
   "source": [
    "from src.data_loader import load_s1_mat\n",
    "\n",
    "file_path = '../data/raw/S1.mat'\n",
    "eeg_trials, attended_labels, fs = load_s1_mat(file_path)\n",
    "\n",
    "print(f\"Number of trials: {len(eeg_trials)}\")\n",
    "print(f\"Sampling rate: {fs} Hz\")\n",
    "print(f\"Shape of first trial EEG: {eeg_trials[0].shape} (samples × channels)\")\n",
    "print(f\"First 5 attended labels: {attended_labels[:5]}\")\n"
   ]
  },
  {
   "cell_type": "code",
   "execution_count": 10,
   "metadata": {},
   "outputs": [
    {
     "name": "stdout",
     "output_type": "stream",
     "text": [
      "Original sampling rate: 128 Hz\n",
      "Number of trials before preprocessing: 20\n",
      "Creating RawArray with float64 data, n_channels=64, n_times=49792\n",
      "    Range : 0 ... 49791 =      0.000 ...   388.992 secs\n",
      "Ready.\n",
      "Creating RawArray with float64 data, n_channels=64, n_times=50048\n",
      "    Range : 0 ... 50047 =      0.000 ...   390.992 secs\n",
      "Ready.\n",
      "Creating RawArray with float64 data, n_channels=64, n_times=49792\n",
      "    Range : 0 ... 49791 =      0.000 ...   388.992 secs\n",
      "Ready.\n",
      "Creating RawArray with float64 data, n_channels=64, n_times=51072\n",
      "    Range : 0 ... 51071 =      0.000 ...   398.992 secs\n",
      "Ready.\n",
      "Creating RawArray with float64 data, n_channels=64, n_times=49792\n",
      "    Range : 0 ... 49791 =      0.000 ...   388.992 secs\n",
      "Ready.\n",
      "Creating RawArray with float64 data, n_channels=64, n_times=50048\n",
      "    Range : 0 ... 50047 =      0.000 ...   390.992 secs\n",
      "Ready.\n",
      "Creating RawArray with float64 data, n_channels=64, n_times=49792\n",
      "    Range : 0 ... 49791 =      0.000 ...   388.992 secs\n",
      "Ready.\n",
      "Creating RawArray with float64 data, n_channels=64, n_times=51072\n",
      "    Range : 0 ... 51071 =      0.000 ...   398.992 secs\n",
      "Ready.\n",
      "Creating RawArray with float64 data, n_channels=64, n_times=15872\n",
      "    Range : 0 ... 15871 =      0.000 ...   123.992 secs\n",
      "Ready.\n",
      "Creating RawArray with float64 data, n_channels=64, n_times=15872\n",
      "    Range : 0 ... 15871 =      0.000 ...   123.992 secs\n",
      "Ready.\n",
      "Creating RawArray with float64 data, n_channels=64, n_times=15872\n",
      "    Range : 0 ... 15871 =      0.000 ...   123.992 secs\n",
      "Ready.\n",
      "Creating RawArray with float64 data, n_channels=64, n_times=15872\n",
      "    Range : 0 ... 15871 =      0.000 ...   123.992 secs\n",
      "Ready.\n",
      "Creating RawArray with float64 data, n_channels=64, n_times=15872\n",
      "    Range : 0 ... 15871 =      0.000 ...   123.992 secs\n",
      "Ready.\n",
      "Creating RawArray with float64 data, n_channels=64, n_times=15872\n",
      "    Range : 0 ... 15871 =      0.000 ...   123.992 secs\n",
      "Ready.\n",
      "Creating RawArray with float64 data, n_channels=64, n_times=15872\n",
      "    Range : 0 ... 15871 =      0.000 ...   123.992 secs\n",
      "Ready.\n",
      "Creating RawArray with float64 data, n_channels=64, n_times=15872\n",
      "    Range : 0 ... 15871 =      0.000 ...   123.992 secs\n",
      "Ready.\n",
      "Creating RawArray with float64 data, n_channels=64, n_times=15872\n",
      "    Range : 0 ... 15871 =      0.000 ...   123.992 secs\n",
      "Ready.\n",
      "Creating RawArray with float64 data, n_channels=64, n_times=15872\n",
      "    Range : 0 ... 15871 =      0.000 ...   123.992 secs\n",
      "Ready.\n",
      "Creating RawArray with float64 data, n_channels=64, n_times=15872\n",
      "    Range : 0 ... 15871 =      0.000 ...   123.992 secs\n",
      "Ready.\n",
      "Creating RawArray with float64 data, n_channels=64, n_times=15872\n",
      "    Range : 0 ... 15871 =      0.000 ...   123.992 secs\n",
      "Ready.\n",
      "New sampling rate after downsampling: 128 Hz\n",
      "Shape of first processed trial: (64, 49792) (channels x samples)\n"
     ]
    }
   ],
   "source": [
    "from src.preprocess import preprocess_eeg_trials\n",
    "from src.data_loader import load_s1_mat\n",
    "\n",
    "file_path = '../data/raw/S1.mat'\n",
    "eeg_trials, attended_labels, fs = load_s1_mat(file_path)\n",
    "\n",
    "print(f\"Original sampling rate: {fs} Hz\")\n",
    "print(f\"Number of trials before preprocessing: {len(eeg_trials)}\")\n",
    "\n",
    "# Example preprocessing: filter 1-40 Hz, downsample to 128 Hz\n",
    "processed_trials, new_fs = preprocess_eeg_trials(eeg_trials, sfreq=fs, l_freq=1, h_freq=40, downsample=128)\n",
    "\n",
    "print(f\"New sampling rate after downsampling: {new_fs} Hz\")\n",
    "print(f\"Shape of first processed trial: {processed_trials[0].shape} (channels x samples)\")\n"
   ]
  },
  {
   "cell_type": "code",
   "execution_count": 11,
   "metadata": {},
   "outputs": [
    {
     "ename": "ImportError",
     "evalue": "cannot import name 'segment_trials' from 'src.dataset' (c:\\Users\\Ruchita.Abhang\\PycharmProjects\\LLM Project New\\AAD-LLM\\src\\dataset.py)",
     "output_type": "error",
     "traceback": [
      "\u001b[31m---------------------------------------------------------------------------\u001b[39m",
      "\u001b[31mImportError\u001b[39m                               Traceback (most recent call last)",
      "\u001b[36mCell\u001b[39m\u001b[36m \u001b[39m\u001b[32mIn[11]\u001b[39m\u001b[32m, line 1\u001b[39m\n\u001b[32m----> \u001b[39m\u001b[32m1\u001b[39m \u001b[38;5;28;01mfrom\u001b[39;00m\u001b[38;5;250m \u001b[39m\u001b[34;01msrc\u001b[39;00m\u001b[34;01m.\u001b[39;00m\u001b[34;01mdataset\u001b[39;00m\u001b[38;5;250m \u001b[39m\u001b[38;5;28;01mimport\u001b[39;00m segment_trials, EEGAttentionDataset\n\u001b[32m      2\u001b[39m \u001b[38;5;28;01mfrom\u001b[39;00m\u001b[38;5;250m \u001b[39m\u001b[34;01mtorch\u001b[39;00m\u001b[34;01m.\u001b[39;00m\u001b[34;01mutils\u001b[39;00m\u001b[34;01m.\u001b[39;00m\u001b[34;01mdata\u001b[39;00m\u001b[38;5;250m \u001b[39m\u001b[38;5;28;01mimport\u001b[39;00m DataLoader\n\u001b[32m      4\u001b[39m \u001b[38;5;66;03m# Segment trials into fixed-length windows (e.g., 2 sec = 256 samples at 128Hz)\u001b[39;00m\n",
      "\u001b[31mImportError\u001b[39m: cannot import name 'segment_trials' from 'src.dataset' (c:\\Users\\Ruchita.Abhang\\PycharmProjects\\LLM Project New\\AAD-LLM\\src\\dataset.py)"
     ]
    }
   ],
   "source": [
    "from src.dataset import segment_trials, EEGAttentionDataset\n",
    "from torch.utils.data import DataLoader\n",
    "\n",
    "# Segment trials into fixed-length windows (e.g., 2 sec = 256 samples at 128Hz)\n",
    "segment_length = 256\n",
    "segmented_trials = segment_trials(processed_trials, segment_length=segment_length, overlap=0)\n",
    "\n",
    "# Expand labels for each segment\n",
    "segmented_labels = []\n",
    "for label, trial in zip(attended_labels, processed_trials):\n",
    "    n_segments = (trial.shape[1] - segment_length) // segment_length + 1\n",
    "    segmented_labels.extend([label] * n_segments)\n",
    "\n",
    "# Create Dataset and DataLoader\n",
    "dataset = EEGAttentionDataset(segmented_trials, segmented_labels)\n",
    "dataloader = DataLoader(dataset, batch_size=16, shuffle=True)\n",
    "\n",
    "# Check batch shapes\n",
    "for batch_eeg, batch_labels in dataloader:\n",
    "    print(batch_eeg.shape)  # (batch_size, channels, samples)\n",
    "    print(batch_labels)\n",
    "    break"
   ]
  }
 ],
 "metadata": {
  "kernelspec": {
   "display_name": ".venv",
   "language": "python",
   "name": "python3"
  },
  "language_info": {
   "codemirror_mode": {
    "name": "ipython",
    "version": 3
   },
   "file_extension": ".py",
   "mimetype": "text/x-python",
   "name": "python",
   "nbconvert_exporter": "python",
   "pygments_lexer": "ipython3",
   "version": "3.12.2"
  }
 },
 "nbformat": 4,
 "nbformat_minor": 2
}
