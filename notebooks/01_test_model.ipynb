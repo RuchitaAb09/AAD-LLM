{
 "cells": [
  {
   "cell_type": "code",
   "execution_count": 1,
   "metadata": {},
   "outputs": [],
   "source": [
    "import sys\n",
    "import os\n",
    "sys.path.append(os.path.abspath(os.path.join(os.path.pardir)))"
   ]
  },
  {
   "cell_type": "code",
   "execution_count": 2,
   "metadata": {},
   "outputs": [
    {
     "name": "stdout",
     "output_type": "stream",
     "text": [
      "Number of trials: 20\n",
      "Sampling rate: 128 Hz\n",
      "Shape of first trial EEG: (49792, 64) (samples × channels)\n",
      "First 5 attended labels: ['R', 'L', 'R', 'L', 'R']\n"
     ]
    }
   ],
   "source": [
    "from src.data_loader import load_s1_mat\n",
    "\n",
    "file_path = '../data/raw/S1.mat'\n",
    "eeg_trials, attended_labels, fs = load_s1_mat(file_path)\n",
    "\n",
    "print(f\"Number of trials: {len(eeg_trials)}\")\n",
    "print(f\"Sampling rate: {fs} Hz\")\n",
    "print(f\"Shape of first trial EEG: {eeg_trials[0].shape} (samples × channels)\")\n",
    "print(f\"First 5 attended labels: {attended_labels[:5]}\")\n"
   ]
  },
  {
   "cell_type": "code",
   "execution_count": 3,
   "metadata": {},
   "outputs": [
    {
     "name": "stdout",
     "output_type": "stream",
     "text": [
      "Original sampling rate: 128 Hz\n",
      "Number of trials before preprocessing: 20\n",
      "Creating RawArray with float64 data, n_channels=64, n_times=49792\n",
      "    Range : 0 ... 49791 =      0.000 ...   388.992 secs\n",
      "Ready.\n",
      "Creating RawArray with float64 data, n_channels=64, n_times=50048\n",
      "    Range : 0 ... 50047 =      0.000 ...   390.992 secs\n",
      "Ready.\n",
      "Creating RawArray with float64 data, n_channels=64, n_times=49792\n",
      "    Range : 0 ... 49791 =      0.000 ...   388.992 secs\n",
      "Ready.\n",
      "Creating RawArray with float64 data, n_channels=64, n_times=51072\n",
      "    Range : 0 ... 51071 =      0.000 ...   398.992 secs\n",
      "Ready.\n",
      "Creating RawArray with float64 data, n_channels=64, n_times=49792\n",
      "    Range : 0 ... 49791 =      0.000 ...   388.992 secs\n",
      "Ready.\n",
      "Creating RawArray with float64 data, n_channels=64, n_times=50048\n",
      "    Range : 0 ... 50047 =      0.000 ...   390.992 secs\n",
      "Ready.\n",
      "Creating RawArray with float64 data, n_channels=64, n_times=49792\n",
      "    Range : 0 ... 49791 =      0.000 ...   388.992 secs\n",
      "Ready.\n",
      "Creating RawArray with float64 data, n_channels=64, n_times=51072\n",
      "    Range : 0 ... 51071 =      0.000 ...   398.992 secs\n",
      "Ready.\n",
      "Creating RawArray with float64 data, n_channels=64, n_times=15872\n",
      "    Range : 0 ... 15871 =      0.000 ...   123.992 secs\n",
      "Ready.\n",
      "Creating RawArray with float64 data, n_channels=64, n_times=15872\n",
      "    Range : 0 ... 15871 =      0.000 ...   123.992 secs\n",
      "Ready.\n",
      "Creating RawArray with float64 data, n_channels=64, n_times=15872\n",
      "    Range : 0 ... 15871 =      0.000 ...   123.992 secs\n",
      "Ready.\n",
      "Creating RawArray with float64 data, n_channels=64, n_times=15872\n",
      "    Range : 0 ... 15871 =      0.000 ...   123.992 secs\n",
      "Ready.\n",
      "Creating RawArray with float64 data, n_channels=64, n_times=15872\n",
      "    Range : 0 ... 15871 =      0.000 ...   123.992 secs\n",
      "Ready.\n",
      "Creating RawArray with float64 data, n_channels=64, n_times=15872\n",
      "    Range : 0 ... 15871 =      0.000 ...   123.992 secs\n",
      "Ready.\n",
      "Creating RawArray with float64 data, n_channels=64, n_times=15872\n",
      "    Range : 0 ... 15871 =      0.000 ...   123.992 secs\n",
      "Ready.\n",
      "Creating RawArray with float64 data, n_channels=64, n_times=15872\n",
      "    Range : 0 ... 15871 =      0.000 ...   123.992 secs\n",
      "Ready.\n",
      "Creating RawArray with float64 data, n_channels=64, n_times=15872\n",
      "    Range : 0 ... 15871 =      0.000 ...   123.992 secs\n",
      "Ready.\n",
      "Creating RawArray with float64 data, n_channels=64, n_times=15872\n",
      "    Range : 0 ... 15871 =      0.000 ...   123.992 secs\n",
      "Ready.\n",
      "Creating RawArray with float64 data, n_channels=64, n_times=15872\n",
      "    Range : 0 ... 15871 =      0.000 ...   123.992 secs\n",
      "Ready.\n",
      "Creating RawArray with float64 data, n_channels=64, n_times=15872\n",
      "    Range : 0 ... 15871 =      0.000 ...   123.992 secs\n",
      "Ready.\n",
      "New sampling rate after downsampling: 128 Hz\n",
      "Shape of first processed trial: (64, 49792) (channels x samples)\n"
     ]
    }
   ],
   "source": [
    "from src.preprocess import preprocess_eeg_trials\n",
    "from src.data_loader import load_s1_mat\n",
    "\n",
    "file_path = '../data/raw/S1.mat'\n",
    "eeg_trials, attended_labels, fs = load_s1_mat(file_path)\n",
    "\n",
    "print(f\"Original sampling rate: {fs} Hz\")\n",
    "print(f\"Number of trials before preprocessing: {len(eeg_trials)}\")\n",
    "\n",
    "# Example preprocessing: filter 1-40 Hz, downsample to 128 Hz\n",
    "processed_trials, new_fs = preprocess_eeg_trials(eeg_trials, sfreq=fs, l_freq=1, h_freq=40, downsample=128)\n",
    "\n",
    "print(f\"New sampling rate after downsampling: {new_fs} Hz\")\n",
    "print(f\"Shape of first processed trial: {processed_trials[0].shape} (channels x samples)\")\n"
   ]
  },
  {
   "cell_type": "code",
   "execution_count": 4,
   "metadata": {},
   "outputs": [
    {
     "name": "stdout",
     "output_type": "stream",
     "text": [
      "torch.Size([16, 64, 256])\n",
      "tensor([0, 0, 1, 0, 1, 0, 1, 1, 1, 0, 0, 0, 1, 1, 1, 0])\n"
     ]
    }
   ],
   "source": [
    "from src.dataset import segment_trials, EEGAttentionDataset\n",
    "from torch.utils.data import DataLoader\n",
    "\n",
    "# Segment trials into fixed-length windows (e.g., 2 sec = 256 samples at 128Hz)\n",
    "segment_length = 256\n",
    "segmented_trials = segment_trials(processed_trials, segment_length=segment_length, overlap=0)\n",
    "\n",
    "# Expand labels for each segment\n",
    "segmented_labels = []\n",
    "for label, trial in zip(attended_labels, processed_trials):\n",
    "    n_segments = (trial.shape[1] - segment_length) // segment_length + 1\n",
    "    segmented_labels.extend([label] * n_segments)\n",
    "\n",
    "# Create Dataset and DataLoader\n",
    "dataset = EEGAttentionDataset(segmented_trials, segmented_labels)\n",
    "dataloader = DataLoader(dataset, batch_size=16, shuffle=True)\n",
    "\n",
    "# Check batch shapes\n",
    "for batch_eeg, batch_labels in dataloader:\n",
    "    print(batch_eeg.shape)  # (batch_size, channels, samples)\n",
    "    print(batch_labels)\n",
    "    break"
   ]
  },
  {
   "cell_type": "code",
   "execution_count": 5,
   "metadata": {},
   "outputs": [
    {
     "name": "stdout",
     "output_type": "stream",
     "text": [
      "CNNLSTMAttentionDecoder(\n",
      "  (conv1): Conv1d(64, 32, kernel_size=(3,), stride=(1,), padding=(1,))\n",
      "  (bn1): BatchNorm1d(32, eps=1e-05, momentum=0.1, affine=True, track_running_stats=True)\n",
      "  (relu): ReLU()\n",
      "  (pool): MaxPool1d(kernel_size=2, stride=2, padding=0, dilation=1, ceil_mode=False)\n",
      "  (conv2): Conv1d(32, 64, kernel_size=(3,), stride=(1,), padding=(1,))\n",
      "  (bn2): BatchNorm1d(64, eps=1e-05, momentum=0.1, affine=True, track_running_stats=True)\n",
      "  (pool2): MaxPool1d(kernel_size=2, stride=2, padding=0, dilation=1, ceil_mode=False)\n",
      "  (lstm): LSTM(64, 64, batch_first=True)\n",
      "  (fc1): Linear(in_features=64, out_features=32, bias=True)\n",
      "  (dropout): Dropout(p=0.3, inplace=False)\n",
      "  (fc2): Linear(in_features=32, out_features=2, bias=True)\n",
      ")\n",
      "torch.Size([16, 2])\n"
     ]
    }
   ],
   "source": [
    "import torch\n",
    "from src.dataset import EEGAttentionDataset, segment_trials\n",
    "from src.data_loader import load_s1_mat\n",
    "from src.model import CNNLSTMAttentionDecoder\n",
    "\n",
    "# Instantiate the model\n",
    "model = CNNLSTMAttentionDecoder(n_channels=64, segment_length=segment_length)\n",
    "print(model)\n",
    "\n",
    "# Example forward pass with one batch\n",
    "for batch_eeg, batch_labels in dataloader:\n",
    "    outputs = model(batch_eeg)  # batch_eeg shape: (B, 64, 256)\n",
    "    print(outputs.shape)  # (B, 2)\n",
    "    break\n"
   ]
  },
  {
   "cell_type": "code",
   "execution_count": 6,
   "metadata": {},
   "outputs": [
    {
     "name": "stdout",
     "output_type": "stream",
     "text": [
      "Using device: cpu\n",
      "Loading data...\n",
      "Loaded 20 trials at 128 Hz\n",
      "Preprocessing EEG...\n",
      "Creating RawArray with float64 data, n_channels=64, n_times=49792\n",
      "    Range : 0 ... 49791 =      0.000 ...   388.992 secs\n",
      "Ready.\n",
      "Creating RawArray with float64 data, n_channels=64, n_times=50048\n",
      "    Range : 0 ... 50047 =      0.000 ...   390.992 secs\n",
      "Ready.\n",
      "Creating RawArray with float64 data, n_channels=64, n_times=49792\n",
      "    Range : 0 ... 49791 =      0.000 ...   388.992 secs\n",
      "Ready.\n",
      "Creating RawArray with float64 data, n_channels=64, n_times=51072\n",
      "    Range : 0 ... 51071 =      0.000 ...   398.992 secs\n",
      "Ready.\n",
      "Creating RawArray with float64 data, n_channels=64, n_times=49792\n",
      "    Range : 0 ... 49791 =      0.000 ...   388.992 secs\n",
      "Ready.\n",
      "Creating RawArray with float64 data, n_channels=64, n_times=50048\n",
      "    Range : 0 ... 50047 =      0.000 ...   390.992 secs\n",
      "Ready.\n",
      "Creating RawArray with float64 data, n_channels=64, n_times=49792\n",
      "    Range : 0 ... 49791 =      0.000 ...   388.992 secs\n",
      "Ready.\n",
      "Creating RawArray with float64 data, n_channels=64, n_times=51072\n",
      "    Range : 0 ... 51071 =      0.000 ...   398.992 secs\n",
      "Ready.\n",
      "Creating RawArray with float64 data, n_channels=64, n_times=15872\n",
      "    Range : 0 ... 15871 =      0.000 ...   123.992 secs\n",
      "Ready.\n",
      "Creating RawArray with float64 data, n_channels=64, n_times=15872\n",
      "    Range : 0 ... 15871 =      0.000 ...   123.992 secs\n",
      "Ready.\n",
      "Creating RawArray with float64 data, n_channels=64, n_times=15872\n",
      "    Range : 0 ... 15871 =      0.000 ...   123.992 secs\n",
      "Ready.\n",
      "Creating RawArray with float64 data, n_channels=64, n_times=15872\n",
      "    Range : 0 ... 15871 =      0.000 ...   123.992 secs\n",
      "Ready.\n",
      "Creating RawArray with float64 data, n_channels=64, n_times=15872\n",
      "    Range : 0 ... 15871 =      0.000 ...   123.992 secs\n",
      "Ready.\n",
      "Creating RawArray with float64 data, n_channels=64, n_times=15872\n",
      "    Range : 0 ... 15871 =      0.000 ...   123.992 secs\n",
      "Ready.\n",
      "Creating RawArray with float64 data, n_channels=64, n_times=15872\n",
      "    Range : 0 ... 15871 =      0.000 ...   123.992 secs\n",
      "Ready.\n",
      "Creating RawArray with float64 data, n_channels=64, n_times=15872\n",
      "    Range : 0 ... 15871 =      0.000 ...   123.992 secs\n",
      "Ready.\n",
      "Creating RawArray with float64 data, n_channels=64, n_times=15872\n",
      "    Range : 0 ... 15871 =      0.000 ...   123.992 secs\n",
      "Ready.\n",
      "Creating RawArray with float64 data, n_channels=64, n_times=15872\n",
      "    Range : 0 ... 15871 =      0.000 ...   123.992 secs\n",
      "Ready.\n",
      "Creating RawArray with float64 data, n_channels=64, n_times=15872\n",
      "    Range : 0 ... 15871 =      0.000 ...   123.992 secs\n",
      "Ready.\n",
      "Creating RawArray with float64 data, n_channels=64, n_times=15872\n",
      "    Range : 0 ... 15871 =      0.000 ...   123.992 secs\n",
      "Ready.\n",
      "Resampled to 128 Hz\n",
      "Segmenting trials...\n",
      "Epoch 01 | Train Loss: 0.6907, Train Acc: 0.5304 | Val Loss: 0.6885, Val Acc: 0.5315\n",
      "Saved best model with Val Acc: 0.5315\n",
      "Epoch 02 | Train Loss: 0.6881, Train Acc: 0.5359 | Val Loss: 0.6901, Val Acc: 0.5445\n",
      "Saved best model with Val Acc: 0.5445\n",
      "Epoch 03 | Train Loss: 0.6820, Train Acc: 0.5630 | Val Loss: 0.6821, Val Acc: 0.5597\n",
      "Saved best model with Val Acc: 0.5597\n",
      "Epoch 04 | Train Loss: 0.6745, Train Acc: 0.5728 | Val Loss: 0.6945, Val Acc: 0.5510\n",
      "Epoch 05 | Train Loss: 0.6727, Train Acc: 0.5804 | Val Loss: 0.6766, Val Acc: 0.5857\n",
      "Saved best model with Val Acc: 0.5857\n",
      "Epoch 06 | Train Loss: 0.6651, Train Acc: 0.6038 | Val Loss: 0.6727, Val Acc: 0.6030\n",
      "Saved best model with Val Acc: 0.6030\n",
      "Epoch 07 | Train Loss: 0.6378, Train Acc: 0.6386 | Val Loss: 0.6799, Val Acc: 0.5792\n",
      "Epoch 08 | Train Loss: 0.6317, Train Acc: 0.6440 | Val Loss: 0.6515, Val Acc: 0.6464\n",
      "Saved best model with Val Acc: 0.6464\n",
      "Epoch 09 | Train Loss: 0.6239, Train Acc: 0.6663 | Val Loss: 0.6514, Val Acc: 0.6399\n",
      "Epoch 10 | Train Loss: 0.5901, Train Acc: 0.6951 | Val Loss: 0.6813, Val Acc: 0.6030\n",
      "Training completed. Best Val Acc: 0.6464\n"
     ]
    }
   ],
   "source": [
    "from src.train import train_model\n",
    "\n",
    "trained_model = train_model(\n",
    "    file_path='../data/raw/S1.mat',\n",
    "    batch_size=16,\n",
    "    num_epochs=10,\n",
    "    learning_rate=1e-3,\n",
    "    segment_length=256,\n",
    "    val_ratio=0.2,\n",
    "    device=None,  # auto-select GPU if available\n",
    "    save_path='best_model.pth'\n",
    ")\n"
   ]
  },
  {
   "cell_type": "code",
   "execution_count": 10,
   "metadata": {},
   "outputs": [
    {
     "name": "stdout",
     "output_type": "stream",
     "text": [
      "Segment 0: Predicted = L, Probabilities: L=0.79, R=0.21\n",
      "Segment 1: Predicted = R, Probabilities: L=0.30, R=0.70\n",
      "Segment 2: Predicted = L, Probabilities: L=0.77, R=0.23\n",
      "Segment 3: Predicted = R, Probabilities: L=0.45, R=0.55\n",
      "Segment 4: Predicted = R, Probabilities: L=0.42, R=0.58\n",
      "Segment 5: Predicted = L, Probabilities: L=0.68, R=0.32\n",
      "Segment 6: Predicted = R, Probabilities: L=0.45, R=0.55\n",
      "Segment 7: Predicted = L, Probabilities: L=0.77, R=0.23\n",
      "Segment 8: Predicted = R, Probabilities: L=0.39, R=0.61\n",
      "Segment 9: Predicted = L, Probabilities: L=0.61, R=0.39\n"
     ]
    }
   ],
   "source": [
    "from src.inference import load_trained_model, predict_segments\n",
    "from torch.utils.data import random_split\n",
    "\n",
    "# Suppose you have (or want to use a held-out or test set of) EEG segments\n",
    "# For demonstration, we'll use the first 10 segments from your validation split:\n",
    "\n",
    "val_ratio = 0.2  # 20% for validation\n",
    "val_size = int(len(dataset) * val_ratio)\n",
    "train_size = len(dataset) - val_size\n",
    "train_dataset, val_dataset = random_split(dataset, [train_size, val_size])\n",
    "\n",
    "_, val_dataset = torch.utils.data.random_split(dataset, [train_size, val_size])\n",
    "val_segments = [val_dataset[i][0].cpu().numpy() for i in range(10)]  # shape (channels, segment_length)\n",
    "\n",
    "# Load the trained model (provide proper segment_length if changed)\n",
    "model = load_trained_model('best_model.pth', n_channels=64, segment_length=256)\n",
    "\n",
    "preds, probs = predict_segments(model, val_segments)\n",
    "\n",
    "for i, (pred, prob) in enumerate(zip(preds, probs)):\n",
    "    print(f\"Segment {i}: Predicted = {'R' if pred==1 else 'L'}, Probabilities: L={prob[0]:.2f}, R={prob[1]:.2f}\")\n"
   ]
  },
  {
   "cell_type": "code",
   "execution_count": 12,
   "metadata": {},
   "outputs": [
    {
     "name": "stdout",
     "output_type": "stream",
     "text": [
      "Requirement already satisfied: scikit-learn in c:\\users\\ruchita.abhang\\pycharmprojects\\llm project new\\.venv\\lib\\site-packages (1.7.1)\n",
      "Requirement already satisfied: numpy>=1.22.0 in c:\\users\\ruchita.abhang\\pycharmprojects\\llm project new\\.venv\\lib\\site-packages (from scikit-learn) (2.3.2)\n",
      "Requirement already satisfied: scipy>=1.8.0 in c:\\users\\ruchita.abhang\\pycharmprojects\\llm project new\\.venv\\lib\\site-packages (from scikit-learn) (1.16.0)\n",
      "Requirement already satisfied: joblib>=1.2.0 in c:\\users\\ruchita.abhang\\pycharmprojects\\llm project new\\.venv\\lib\\site-packages (from scikit-learn) (1.5.1)\n",
      "Requirement already satisfied: threadpoolctl>=3.1.0 in c:\\users\\ruchita.abhang\\pycharmprojects\\llm project new\\.venv\\lib\\site-packages (from scikit-learn) (3.6.0)\n"
     ]
    },
    {
     "name": "stderr",
     "output_type": "stream",
     "text": [
      "\n",
      "[notice] A new release of pip is available: 23.2.1 -> 25.1.1\n",
      "[notice] To update, run: python.exe -m pip install --upgrade pip\n"
     ]
    }
   ],
   "source": [
    "!pip install scikit-learn"
   ]
  },
  {
   "cell_type": "code",
   "execution_count": 13,
   "metadata": {},
   "outputs": [
    {
     "name": "stdout",
     "output_type": "stream",
     "text": [
      "Validation accuracy: 0.7158\n",
      "Confusion matrix:\n",
      "[[165  64]\n",
      " [ 67 165]]\n",
      "Classification report:\n",
      "              precision    recall  f1-score   support\n",
      "\n",
      "           L       0.71      0.72      0.72       229\n",
      "           R       0.72      0.71      0.72       232\n",
      "\n",
      "    accuracy                           0.72       461\n",
      "   macro avg       0.72      0.72      0.72       461\n",
      "weighted avg       0.72      0.72      0.72       461\n",
      "\n"
     ]
    }
   ],
   "source": [
    "import torch\n",
    "from src.inference import load_trained_model\n",
    "from torch.utils.data import DataLoader\n",
    "\n",
    "# Suppose you have your EEGAttentionDataset and val_dataset ready as before\n",
    "# Example: (If using previous split)\n",
    "# val_dataset = ... (from your validation split)\n",
    "val_loader = DataLoader(val_dataset, batch_size=32, shuffle=False)\n",
    "\n",
    "# Load trained model\n",
    "model = load_trained_model('best_model.pth', n_channels=64, segment_length=256)\n",
    "device = torch.device(\"cuda\" if torch.cuda.is_available() else \"cpu\")\n",
    "\n",
    "all_preds = []\n",
    "all_true = []\n",
    "\n",
    "model.eval()\n",
    "with torch.no_grad():\n",
    "    for eeg_batch, label_batch in val_loader:\n",
    "        eeg_batch = eeg_batch.to(device)\n",
    "        logits = model(eeg_batch)\n",
    "        preds = logits.argmax(dim=1).cpu().numpy()      # 0='L', 1='R'\n",
    "        all_preds.extend(preds)\n",
    "        all_true.extend(label_batch.numpy())\n",
    "\n",
    "# Calculate accuracy\n",
    "from sklearn.metrics import accuracy_score, confusion_matrix, classification_report\n",
    "\n",
    "acc = accuracy_score(all_true, all_preds)\n",
    "mat = confusion_matrix(all_true, all_preds)\n",
    "report = classification_report(all_true, all_preds, target_names=['L', 'R'])\n",
    "\n",
    "print(f\"Validation accuracy: {acc:.4f}\")\n",
    "print(\"Confusion matrix:\")\n",
    "print(mat)\n",
    "print(\"Classification report:\")\n",
    "print(report)\n"
   ]
  },
  {
   "cell_type": "code",
   "execution_count": 14,
   "metadata": {},
   "outputs": [
    {
     "data": {
      "image/png": "[encoded data removed]",
      "text/plain": [
       "<Figure size 640x480 with 2 Axes>"
      ]
     },
     "metadata": {},
     "output_type": "display_data"
    }
   ],
   "source": [
    "import matplotlib.pyplot as plt\n",
    "from sklearn.metrics import confusion_matrix, ConfusionMatrixDisplay\n",
    "\n",
    "# Assuming you have:\n",
    "# all_true: list or np.array of true labels (as integers 0 for 'L', 1 for 'R')\n",
    "# all_preds: list or np.array of predicted labels (0 or 1)\n",
    "\n",
    "cm = confusion_matrix(all_true, all_preds)\n",
    "disp = ConfusionMatrixDisplay(confusion_matrix=cm, display_labels=['L', 'R'])\n",
    "disp.plot(cmap=plt.cm.Blues)\n",
    "plt.title(\"Confusion Matrix - EEG Auditory Attention Decoding\")\n",
    "plt.show()\n"
   ]
  },
  {
   "cell_type": "code",
   "execution_count": 19,
   "metadata": {},
   "outputs": [],
   "source": [
    "import torch\n",
    "from torch.utils.data import DataLoader\n",
    "from src.inference import load_trained_model\n",
    "\n",
    "# Assuming val_dataset is already defined (your validation split)\n",
    "val_loader = DataLoader(val_dataset, batch_size=32, shuffle=False)\n",
    "\n",
    "device = torch.device(\"cuda\" if torch.cuda.is_available() else \"cpu\")\n",
    "model = load_trained_model('best_model.pth', n_channels=64, segment_length=256, device=device)\n",
    "\n",
    "all_true = []\n",
    "all_preds = []\n",
    "all_probs = []\n",
    "\n",
    "model.eval()\n",
    "with torch.no_grad():\n",
    "    for eeg_batch, label_batch in val_loader:\n",
    "        eeg_batch = eeg_batch.to(device)\n",
    "        label_batch = label_batch.to(device)\n",
    "\n",
    "        logits = model(eeg_batch)               # logits shape (batch, 2)\n",
    "        probs = torch.softmax(logits, dim=1)   # softmax probabilities\n",
    "        \n",
    "        preds = torch.argmax(probs, dim=1)\n",
    "\n",
    "        all_true.extend(label_batch.cpu().numpy())\n",
    "        all_preds.extend(preds.cpu().numpy())\n",
    "        all_probs.extend(probs.cpu().numpy())  # probabilities for both classes\n",
    "\n",
    "# Now all_probs is a list of [P(L), P(R)] arrays\n",
    "# To compute ROC curve, we use the probability for class 'R' (index 1)\n"
   ]
  },
  {
   "cell_type": "code",
   "execution_count": 20,
   "metadata": {},
   "outputs": [
    {
     "data": {
      "image/png": "[encoded data removed]",
      "text/plain": [
       "<Figure size 640x480 with 1 Axes>"
      ]
     },
     "metadata": {},
     "output_type": "display_data"
    }
   ],
   "source": [
    "from sklearn.metrics import roc_curve, auc\n",
    "import matplotlib.pyplot as plt\n",
    "\n",
    "# Extract probability of the positive class 'R' = 1\n",
    "y_true = all_true\n",
    "y_scores = [p[1] for p in all_probs]\n",
    "\n",
    "fpr, tpr, thresholds = roc_curve(y_true, y_scores)\n",
    "roc_auc = auc(fpr, tpr)\n",
    "\n",
    "plt.figure()\n",
    "plt.plot(fpr, tpr, label=f'ROC curve (AUC = {roc_auc:.2f})')\n",
    "plt.plot([0, 1], [0, 1], 'k--')  # diagonal line\n",
    "plt.xlabel(\"False Positive Rate\")\n",
    "plt.ylabel(\"True Positive Rate\")\n",
    "plt.title(\"ROC Curve for EEG Auditory Attention Decoding\")\n",
    "plt.legend(loc=\"lower right\")\n",
    "plt.show()\n"
   ]
  }
 ],
 "metadata": {
  "kernelspec": {
   "display_name": ".venv",
   "language": "python",
   "name": "python3"
  },
  "language_info": {
   "codemirror_mode": {
    "name": "ipython",
    "version": 3
   },
   "file_extension": ".py",
   "mimetype": "text/x-python",
   "name": "python",
   "nbconvert_exporter": "python",
   "pygments_lexer": "ipython3",
   "version": "3.12.2"
  }
 },
 "nbformat": 4,
 "nbformat_minor": 2
}
